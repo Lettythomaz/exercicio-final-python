{
  "nbformat": 4,
  "nbformat_minor": 0,
  "metadata": {
    "colab": {
      "provenance": [],
      "authorship_tag": "ABX9TyPJeatgtKnw4YUsqJX2bk0/",
      "include_colab_link": true
    },
    "kernelspec": {
      "name": "python3",
      "display_name": "Python 3"
    },
    "language_info": {
      "name": "python"
    }
  },
  "cells": [
    {
      "cell_type": "markdown",
      "metadata": {
        "id": "view-in-github",
        "colab_type": "text"
      },
      "source": [
        "<a href=\"https://colab.research.google.com/github/Lettythomaz/exercicio-final-python/blob/main/exercicio_final_python.ipynb\" target=\"_parent\"><img src=\"https://colab.research.google.com/assets/colab-badge.svg\" alt=\"Open In Colab\"/></a>"
      ]
    },
    {
      "cell_type": "markdown",
      "source": [
        "Importando bibliotecas:"
      ],
      "metadata": {
        "id": "DEx-jya-x0w7"
      }
    },
    {
      "cell_type": "markdown",
      "source": [
        "Etapa 1: Criar a classe; criar método; criar atributos; criar método: emprestar"
      ],
      "metadata": {
        "id": "yv91qDo_ye1-"
      }
    },
    {
      "cell_type": "markdown",
      "source": [],
      "metadata": {
        "id": "oCCG6A37DhDK"
      }
    },
    {
      "cell_type": "code",
      "source": [
        "class Livro:\n",
        "    def __init__(self, titulo, autor):\n",
        "        self.titulo = titulo\n",
        "        self.autor = autor\n",
        "        self.disponivel = True\n",
        "\n",
        "    def emprestar(self):\n",
        "        self.disponivel = False\n",
        "\n",
        "    def mostrar_status(self):\n",
        "        return \"Título: \" + self.titulo + \" - Autor: \" + self.autor + \" - Disponível? \" + str(self.disponivel)\n",
        "\n",
        "\n"
      ],
      "metadata": {
        "id": "TfILHepayorN"
      },
      "execution_count": 37,
      "outputs": []
    },
    {
      "cell_type": "markdown",
      "source": [
        "Etapa 2: Lista de Livros e Operações"
      ],
      "metadata": {
        "id": "jeP6hYAqEccU"
      }
    },
    {
      "cell_type": "code",
      "source": [
        "livro1 = Livro(\"Dom Casmurro\", \"Machado de Assis\")\n",
        "livro2 = Livro(\"1984\", \"George Orwell\")\n",
        "livro3 = Livro(\"O Pequeno Príncipe\", \"Antoine de Saint-Exupéry\")\n",
        "livro4 = Livro(\"Entrevista com o Vampiro\", \"Anne Rice\")\n",
        "\n",
        "# lista biblioteca\n",
        "biblioteca = [livro1, livro2, livro3, livro4]\n",
        "\n",
        "# Loop emprestar\n",
        "biblioteca[3].emprestar()\n",
        "\n",
        "# imprimir o status de todos os livros\n",
        "for livro in biblioteca:\n",
        "    print(livro.mostrar_status())\n"
      ],
      "metadata": {
        "colab": {
          "base_uri": "https://localhost:8080/"
        },
        "id": "obNu8Tu-ElsG",
        "outputId": "0386ceb0-7a9d-4067-dcf7-e35b675fc595"
      },
      "execution_count": 38,
      "outputs": [
        {
          "output_type": "stream",
          "name": "stdout",
          "text": [
            "Título: Dom Casmurro - Autor: Machado de Assis - Disponível? True\n",
            "Título: 1984 - Autor: George Orwell - Disponível? True\n",
            "Título: O Pequeno Príncipe - Autor: Antoine de Saint-Exupéry - Disponível? True\n",
            "Título: Entrevista com o Vampiro - Autor: Anne Rice - Disponível? False\n"
          ]
        }
      ]
    },
    {
      "cell_type": "markdown",
      "source": [
        "Parte 3: Filtro com Boolean Masking:"
      ],
      "metadata": {
        "id": "V3QQV97FFaba"
      }
    },
    {
      "cell_type": "code",
      "source": [
        "class Livro:\n",
        "    def __init__(self, titulo, autor,paginas):\n",
        "        self.titulo = titulo\n",
        "        self.autor = autor\n",
        "        self.paginas = paginas\n",
        "        self.disponivel = True\n",
        "\n",
        "    def emprestar(self):\n",
        "        self.disponivel = False\n",
        "\n",
        "    def mostrar_status(self):\n",
        "        return \"Título: \" + self.titulo + \" - Autor: \" + self.autor + \" - Disponível? \" + str(self.disponivel)\n",
        "\n",
        "\n",
        "# livros com número de páginas:\n",
        "livro1 = Livro(\"Dom Casmurro\", \"Machado de Assis\", 200)\n",
        "livro2 = Livro(\"1984\", \"George Orwell\", 328)\n",
        "livro3 = Livro(\"O Pequeno Príncipe\", \"Antoine de Saint-Exupéry\", 96)\n",
        "livro4 = Livro(\"Entrevista com o Vampiro\", \"Anne Rice\", 420)\n",
        "\n",
        "# Array NumPy número de páginas\n",
        "paginas = np.array([livro1.paginas, livro2.paginas, livro3.paginas, livro4.paginas])\n",
        "\n",
        "# Criando a lista biblioteca\n",
        "biblioteca = [livro1, livro2, livro3, livro4]\n",
        "\n",
        "# Boolean Masking para filtrar livros com mais de 100 páginas\n",
        "livros_maior_100 = paginas > 100\n",
        "\n",
        "# livros com mais de 100 páginas\n",
        "for i in range(len(biblioteca)):\n",
        "    if livros_maior_100[i]:\n",
        "        print(biblioteca[i].mostrar_status())\n",
        "\n",
        "\n",
        "\n"
      ],
      "metadata": {
        "colab": {
          "base_uri": "https://localhost:8080/"
        },
        "id": "NNqXDLs4FawW",
        "outputId": "68bb8142-696f-4439-b641-f4f18d72de17"
      },
      "execution_count": 39,
      "outputs": [
        {
          "output_type": "stream",
          "name": "stdout",
          "text": [
            "Título: Dom Casmurro - Autor: Machado de Assis - Disponível? True\n",
            "Título: 1984 - Autor: George Orwell - Disponível? True\n",
            "Título: Entrevista com o Vampiro - Autor: Anne Rice - Disponível? True\n"
          ]
        }
      ]
    },
    {
      "cell_type": "markdown",
      "source": [
        "Parte 4: Função com NumPy"
      ],
      "metadata": {
        "id": "ghA384krGGnC"
      }
    },
    {
      "cell_type": "code",
      "source": [
        "import numpy as np"
      ],
      "metadata": {
        "id": "mRGCdvtFGRYJ"
      },
      "execution_count": 40,
      "outputs": []
    },
    {
      "cell_type": "code",
      "source": [
        "class Livro:\n",
        "    def __init__(self, titulo, autor, ano_publicacao,paginas):\n",
        "        self.titulo = titulo\n",
        "        self.autor = autor\n",
        "        self.paginas = paginas\n",
        "        self.ano_publicacao = ano_publicacao\n",
        "        self.disponivel = True\n",
        "\n",
        "    def emprestar(self):\n",
        "        self.disponivel = False\n",
        "\n",
        "    def mostrar_status(self):\n",
        "        return \"Título: \" + self.titulo + \" - Autor: \" + self.autor + \" - Disponível? \" + str(self.disponivel)\n",
        "# livros com ano de publicação\n",
        "livro1 = Livro(\"Dom Casmurro\", \"Machado de Assis\", 200, 1899)\n",
        "livro2 = Livro(\"1984\", \"George Orwell\", 328, 1949)\n",
        "livro3 = Livro(\"O Pequeno Príncipe\", \"Antoine de Saint-Exupéry\", 96, 1943)\n",
        "livro4 = Livro(\"Entrevista com o Vampiro\", \"Anne Rice\", 420, 1976)\n",
        "\n",
        "# Criando a lista biblioteca\n",
        "biblioteca = [livro1, livro2, livro3, livro4]\n",
        "\n",
        "# Array NumPy anos de publicação\n",
        "anos_publicacao = np.array([livro1.ano_publicacao, livro2.ano_publicacao, livro3.ano_publicacao, livro4.ano_publicacao])\n",
        "\n",
        "# Calculo da média dos anos de publicação\n",
        "def media_anos_publicacao(anos):\n",
        "    return np.mean(anos)\n",
        "\n",
        "# printat a média dos anos de publicação\n",
        "media = media_anos_publicacao(anos_publicacao)\n",
        "print(\"\\nMédia dos anos de publicação:\", media)\n",
        ""
      ],
      "metadata": {
        "colab": {
          "base_uri": "https://localhost:8080/"
        },
        "id": "3hB7h55-GGzS",
        "outputId": "683d2641-ca45-4cb8-e30c-4758567bf6f2"
      },
      "execution_count": 41,
      "outputs": [
        {
          "output_type": "stream",
          "name": "stdout",
          "text": [
            "\n",
            "Média dos anos de publicação: 261.0\n"
          ]
        }
      ]
    }
  ]
}